{
 "cells": [
  {
   "cell_type": "markdown",
   "metadata": {},
   "source": [
    "0. Preparation (Setting the Random State)"
   ]
  },
  {
   "cell_type": "code",
   "execution_count": 1,
   "metadata": {},
   "outputs": [],
   "source": [
    "import numpy as np\n",
    "import scipy as sc\n",
    "import pandas as pd \n",
    "import matplotlib.pyplot as plt\n",
    "import sklearn\n",
    "\n",
    "\n",
    "rs = min(328964, 328830)\n",
    "np.random.seed(rs) # you have to call in every cell where you use a function that requires a random state\n"
   ]
  },
  {
   "cell_type": "markdown",
   "metadata": {},
   "source": [
    "1. Exercise 1 (Loading and Preparing the Data)"
   ]
  },
  {
   "cell_type": "code",
   "execution_count": 2,
   "metadata": {},
   "outputs": [
    {
     "name": "stdout",
     "output_type": "stream",
     "text": [
      "<class 'pandas.core.frame.DataFrame'>\n",
      "RangeIndex: 2240 entries, 0 to 2239\n",
      "Data columns (total 29 columns):\n",
      " #   Column               Non-Null Count  Dtype         \n",
      "---  ------               --------------  -----         \n",
      " 0   ID                   2240 non-null   int64         \n",
      " 1   Year_Birth           2240 non-null   int64         \n",
      " 2   Education            2240 non-null   object        \n",
      " 3   Marital_Status       2240 non-null   object        \n",
      " 4   Income               2216 non-null   float64       \n",
      " 5   Kidhome              2240 non-null   int64         \n",
      " 6   Teenhome             2240 non-null   int64         \n",
      " 7   Dt_Customer          2240 non-null   datetime64[ns]\n",
      " 8   Recency              2240 non-null   int64         \n",
      " 9   MntWines             2240 non-null   int64         \n",
      " 10  MntFruits            2240 non-null   int64         \n",
      " 11  MntMeatProducts      2240 non-null   int64         \n",
      " 12  MntFishProducts      2240 non-null   int64         \n",
      " 13  MntSweetProducts     2240 non-null   int64         \n",
      " 14  MntGoldProds         2240 non-null   int64         \n",
      " 15  NumDealsPurchases    2240 non-null   int64         \n",
      " 16  NumWebPurchases      2240 non-null   int64         \n",
      " 17  NumCatalogPurchases  2240 non-null   int64         \n",
      " 18  NumStorePurchases    2240 non-null   int64         \n",
      " 19  NumWebVisitsMonth    2240 non-null   int64         \n",
      " 20  AcceptedCmp3         2240 non-null   int64         \n",
      " 21  AcceptedCmp4         2240 non-null   int64         \n",
      " 22  AcceptedCmp5         2240 non-null   int64         \n",
      " 23  AcceptedCmp1         2240 non-null   int64         \n",
      " 24  AcceptedCmp2         2240 non-null   int64         \n",
      " 25  Complain             2240 non-null   int64         \n",
      " 26  Z_CostContact        2240 non-null   int64         \n",
      " 27  Z_Revenue            2240 non-null   int64         \n",
      " 28  Response             2240 non-null   int64         \n",
      "dtypes: datetime64[ns](1), float64(1), int64(25), object(2)\n",
      "memory usage: 507.6+ KB\n",
      "None\n",
      "(2240, 29)\n",
      "(1493, 29)\n",
      "(1493, 26)\n",
      "['NumDealsPurchases', 'AcceptedCmp1', 'AcceptedCmp2', 'AcceptedCmp3', 'AcceptedCmp4', 'AcceptedCmp5', 'Response', 'Complain', 'Recency']\n",
      "['Year_Birth', 'Education', 'Marital_Status', 'Income', 'Kidhome', 'Teenhome', 'Dt_Customer', 'MntWines', 'MntFruits', 'MntMeatProducts', 'MntFishProducts', 'MntSweetProducts', 'MntGoldProds', 'NumWebPurchases', 'NumCatalogPurchases', 'NumStorePurchases', 'NumWebVisitsMonth']\n",
      "['MntWines', 'MntFruits', 'MntMeatProducts', 'MntFishProducts', 'MntSweetProducts', 'MntGoldProds', 'NumWebPurchases', 'NumCatalogPurchases', 'NumStorePurchases']\n",
      "['MntSweetProducts']\n",
      "(1493, 25)\n",
      "['Year_Birth', 'Education', 'Marital_Status', 'Income', 'Kidhome', 'Teenhome', 'Dt_Customer', 'MntWines', 'MntFruits', 'MntMeatProducts', 'MntFishProducts', 'MntGoldProds', 'NumWebPurchases', 'NumCatalogPurchases', 'NumStorePurchases', 'NumWebVisitsMonth']\n"
     ]
    }
   ],
   "source": [
    "np.random.seed(rs)\n",
    "\n",
    "df_tot = pd.read_csv(\"cla4lsp_customers.csv\", sep='\\t', parse_dates=['Dt_Customer'], date_format='%d-%m-%Y')\n",
    "print(df_tot.info())\n",
    "workdf = df_tot.sample(frac=2/3, random_state=rs)\n",
    "print(df_tot.shape)\n",
    "print(workdf.shape)\n",
    "workdf.drop(['ID', 'Z_CostContact', 'Z_Revenue'], axis=1, inplace=True)\n",
    "print(workdf.shape)\n",
    "labels = ['NumDealsPurchases', 'AcceptedCmp1', 'AcceptedCmp2', 'AcceptedCmp3', 'AcceptedCmp4', 'AcceptedCmp5',\n",
    "          'Response', 'Complain', 'Recency']\n",
    "features = list(workdf.drop(labels, axis=1).columns)\n",
    "print(labels)\n",
    "print(features)\n",
    "habits = features[7:16]\n",
    "print(habits)\n",
    "removed = np.random.choice(habits, 1)\n",
    "print(removed)\n",
    "workdf.drop(removed, axis=1, inplace=True)\n",
    "features.remove(removed)\n",
    "print(workdf.shape)\n",
    "print(features)\n"
   ]
  },
  {
   "cell_type": "markdown",
   "metadata": {},
   "source": [
    "Cleaning the working dataset from missing values"
   ]
  },
  {
   "cell_type": "code",
   "execution_count": 3,
   "metadata": {},
   "outputs": [
    {
     "name": "stdout",
     "output_type": "stream",
     "text": [
      "Year_Birth              0\n",
      "Education               0\n",
      "Marital_Status          0\n",
      "Income                 15\n",
      "Kidhome                 0\n",
      "Teenhome                0\n",
      "Dt_Customer             0\n",
      "MntWines                0\n",
      "MntFruits               0\n",
      "MntMeatProducts         0\n",
      "MntFishProducts         0\n",
      "MntGoldProds            0\n",
      "NumWebPurchases         0\n",
      "NumCatalogPurchases     0\n",
      "NumStorePurchases       0\n",
      "NumWebVisitsMonth       0\n",
      "dtype: int64\n"
     ]
    }
   ],
   "source": [
    "print(workdf[features].isna().sum())\n",
    "workdf['Income'].fillna(0, inplace=True)"
   ]
  },
  {
   "cell_type": "markdown",
   "metadata": {},
   "source": [
    "2. Exercise 2 (Encoding of Categorical Data) \\\n",
    "Here we have only two categorical features: Education and Marital_Status; since there are not too many possible values, we can use one-hot encoding by means of the pd.get_dummies() function."
   ]
  },
  {
   "cell_type": "code",
   "execution_count": 4,
   "metadata": {},
   "outputs": [
    {
     "name": "stdout",
     "output_type": "stream",
     "text": [
      "['Education_Basic', 'Education_Graduation', 'Education_Master', 'Education_PhD', 'Marital_Status_Alone', 'Marital_Status_Divorced', 'Marital_Status_Married', 'Marital_Status_Single', 'Marital_Status_Together', 'Marital_Status_Widow', 'Marital_Status_YOLO']\n"
     ]
    }
   ],
   "source": [
    "from sklearn.preprocessing import OneHotEncoder\n",
    "from sklearn.preprocessing import LabelEncoder\n",
    "\n",
    "\n",
    "# enc = OneHotEncoder()\n",
    "# transformed = enc.fit_transform(workdf[['Education', 'Marital_Status']])\n",
    "# print(transformed)\n",
    "# ohe_df = pd.DataFrame(transformed, columns=[['Education', 'Marital_Status']])\n",
    "# Xworkdf = pd.concat([workdf, ohe_df], axis=1).drop(['Education', 'Marital_Status'], axis=1)\n",
    "\n",
    "# print(workdf[features].iloc[:5])\n",
    "Xworkdf = pd.get_dummies(data=workdf[features], columns=['Education', 'Marital_Status'], drop_first=True)\n",
    "new_cols = list(Xworkdf.columns[~Xworkdf.columns.isin(workdf.columns)])\n",
    "print(new_cols)\n",
    "years = Xworkdf['Year_Birth']\n",
    "dates = Xworkdf['Dt_Customer']\n",
    "le = LabelEncoder()\n",
    "enc_years = le.fit_transform(years)\n",
    "enc_dates = le.fit_transform(dates)\n",
    "Xworkdf['Year_Birth'] = enc_years\n",
    "Xworkdf['Dt_Customer'] = enc_dates\n",
    "# print(Xworkdf.shape)\n",
    "# print(Xworkdf.iloc[:5])\n",
    "\n"
   ]
  },
  {
   "cell_type": "markdown",
   "metadata": {},
   "source": [
    " Exercise 3 (Preprocessing and full-PCA)"
   ]
  },
  {
   "cell_type": "code",
   "execution_count": 40,
   "metadata": {},
   "outputs": [
    {
     "name": "stdout",
     "output_type": "stream",
     "text": [
      "\n",
      "Percentage Change in Variance with StandardScaler:\n",
      "Year_Birth                   -99.273576\n",
      "Income                      -100.000000\n",
      "Kidhome                      248.008325\n",
      "Teenhome                     235.620289\n",
      "Dt_Customer                  -99.996710\n",
      "MntWines                     -99.999143\n",
      "MntFruits                    -99.935989\n",
      "MntMeatProducts              -99.998011\n",
      "MntFishProducts              -99.965005\n",
      "MntGoldProds                 -99.963248\n",
      "NumWebPurchases              -86.627052\n",
      "NumCatalogPurchases          -88.349346\n",
      "NumStorePurchases            -90.583662\n",
      "NumWebVisitsMonth            -83.233622\n",
      "Education_Basic             3830.887384\n",
      "Education_Graduation         300.467291\n",
      "Education_Master             599.572859\n",
      "Education_PhD                467.430606\n",
      "Marital_Status_Alone       49766.868009\n",
      "Marital_Status_Divorced      987.234904\n",
      "Marital_Status_Married       319.897110\n",
      "Marital_Status_Single        496.560685\n",
      "Marital_Status_Together      428.874890\n",
      "Marital_Status_Widow        2768.567421\n",
      "Marital_Status_YOLO        74650.134138\n",
      "dtype: float64\n"
     ]
    }
   ],
   "source": [
    "from sklearn.preprocessing import StandardScaler\n",
    "std = StandardScaler()\n",
    "var_original = Xworkdf.var()\n",
    "std_features = std.fit_transform(Xworkdf.values)\n",
    "Xworkdf_std = pd.DataFrame(std_features, index=Xworkdf.index, columns=Xworkdf.columns)\n",
    "var_std = Xworkdf_std.var()\n",
    "change_std = ((var_std - var_original) / var_original) * 100\n",
    "print(\"\\nPercentage Change in Variance with StandardScaler:\")\n",
    "print(change_std)"
   ]
  },
  {
   "cell_type": "code",
   "execution_count": 30,
   "metadata": {},
   "outputs": [
    {
     "name": "stdout",
     "output_type": "stream",
     "text": [
      "\n",
      "Percentage Change in Variance with MinMaxScaler:\n",
      "Year_Birth                 -99.968112\n",
      "Income                    -100.000000\n",
      "Kidhome                    -75.000000\n",
      "Teenhome                   -75.000000\n",
      "Dt_Customer                -99.999721\n",
      "MntWines                   -99.999955\n",
      "MntFruits                  -99.997475\n",
      "MntMeatProducts            -99.999966\n",
      "MntFishProducts            -99.998498\n",
      "MntGoldProds               -99.999030\n",
      "NumWebPurchases            -99.840000\n",
      "NumCatalogPurchases        -99.872449\n",
      "NumStorePurchases          -99.408284\n",
      "NumWebVisitsMonth          -99.750000\n",
      "Education_Basic              0.000000\n",
      "Education_Graduation         0.000000\n",
      "Education_Master             0.000000\n",
      "Education_PhD                0.000000\n",
      "Marital_Status_Alone         0.000000\n",
      "Marital_Status_Divorced      0.000000\n",
      "Marital_Status_Married       0.000000\n",
      "Marital_Status_Single        0.000000\n",
      "Marital_Status_Together      0.000000\n",
      "Marital_Status_Widow         0.000000\n",
      "Marital_Status_YOLO          0.000000\n",
      "dtype: float64\n"
     ]
    }
   ],
   "source": [
    "from sklearn.preprocessing import MinMaxScaler\n",
    "mm = MinMaxScaler(feature_range=(0, 1))\n",
    "mm_features = mm.fit_transform(Xworkdf.values)\n",
    "Xworkdf_mm = pd.DataFrame(mm_features, index=Xworkdf.index, columns=Xworkdf.columns)\n",
    "var_mm = Xworkdf_mm.var()\n",
    "change_mm = ((var_mm - var_original) / var_original) * 100\n",
    "print(\"\\nPercentage Change in Variance with MinMaxScaler:\")\n",
    "print(change_mm)"
   ]
  },
  {
   "cell_type": "markdown",
   "metadata": {},
   "source": [
    "Comment"
   ]
  },
  {
   "cell_type": "code",
   "execution_count": 66,
   "metadata": {},
   "outputs": [
    {
     "data": {
      "image/png": "[encoded data removed]",
      "text/plain": [
       "<Figure size 640x480 with 1 Axes>"
      ]
     },
     "metadata": {},
     "output_type": "display_data"
    }
   ],
   "source": [
    "from sklearn.decomposition import PCA\n",
    "pca=PCA()\n",
    "pca.fit_transform(Xworkdf)\n",
    "eigenvalues = pca.explained_variance_\n",
    "explained_variances = eigenvalues / np.sum(eigenvalues)\n",
    "explained_variance_ratio = np.cumsum(explained_variances)\n",
    "plt.plot(explained_variance_ratio, marker='o')\n",
    "#plt.plot(explained_variances, marker='o')\n",
    "plt.show()"
   ]
  },
  {
   "cell_type": "code",
   "execution_count": 62,
   "metadata": {},
   "outputs": [
    {
     "data": {
      "image/png": "[encoded data removed]",
      "text/plain": [
       "<Figure size 640x480 with 1 Axes>"
      ]
     },
     "metadata": {},
     "output_type": "display_data"
    }
   ],
   "source": [
    "pca_std=PCA()\n",
    "pca_std.fit_transform(Xworkdf_std)\n",
    "eigenvalues = pca_std.explained_variance_\n",
    "explained_variances = eigenvalues / np.sum(eigenvalues)\n",
    "explained_variance_ratio = np.cumsum(explained_variances)\n",
    "plt.plot(explained_variance_ratio, marker='o') #cum\n",
    "plt.plot(explained_variances, marker='o') #individual\n",
    "plt.show()"
   ]
  },
  {
   "cell_type": "code",
   "execution_count": 63,
   "metadata": {},
   "outputs": [
    {
     "data": {
      "image/png": "[encoded data removed]",
      "text/plain": [
       "<Figure size 640x480 with 1 Axes>"
      ]
     },
     "metadata": {},
     "output_type": "display_data"
    }
   ],
   "source": [
    "pca_mm=PCA()\n",
    "pca_mm.fit_transform(Xworkdf_mm)\n",
    "eigenvalues = pca_mm.explained_variance_\n",
    "explained_variances = eigenvalues / np.sum(eigenvalues)\n",
    "explained_variance_ratio = np.cumsum(explained_variances)\n",
    "plt.plot(explained_variance_ratio, marker='o') #cum\n",
    "plt.plot(explained_variances, marker='o') #individual\n",
    "plt.show()"
   ]
  }
 ],
 "metadata": {
  "kernelspec": {
   "display_name": "Python 3",
   "language": "python",
   "name": "python3"
  },
  "language_info": {
   "codemirror_mode": {
    "name": "ipython",
    "version": 3
   },
   "file_extension": ".py",
   "mimetype": "text/x-python",
   "name": "python",
   "nbconvert_exporter": "python",
   "pygments_lexer": "ipython3",
   "version": "3.10.11"
  }
 },
 "nbformat": 4,
 "nbformat_minor": 2
}
