{
 "cells": [
  {
   "cell_type": "markdown",
   "metadata": {},
   "source": [
    "0. Preparation (Setting the Random State)"
   ]
  },
  {
   "cell_type": "code",
   "execution_count": 9,
   "metadata": {},
   "outputs": [],
   "source": [
    "import numpy as np\n",
    "import scipy as sc\n",
    "import pandas as pd \n",
    "import matplotlib.pyplot as plt\n",
    "import sklearn\n",
    "\n",
    "\n",
    "rs = min(328964, 328830)\n",
    "np.random.seed(rs) # you have to call in every cell where you use a function that requires a random state\n"
   ]
  },
  {
   "cell_type": "markdown",
   "metadata": {},
   "source": [
    "1. Exercise 1 (Loading and Preparing the Data)"
   ]
  },
  {
   "cell_type": "code",
   "execution_count": 10,
   "metadata": {},
   "outputs": [
    {
     "name": "stdout",
     "output_type": "stream",
     "text": [
      "<class 'pandas.core.frame.DataFrame'>\n",
      "RangeIndex: 2240 entries, 0 to 2239\n",
      "Data columns (total 29 columns):\n",
      " #   Column               Non-Null Count  Dtype         \n",
      "---  ------               --------------  -----         \n",
      " 0   ID                   2240 non-null   int64         \n",
      " 1   Year_Birth           2240 non-null   int64         \n",
      " 2   Education            2240 non-null   object        \n",
      " 3   Marital_Status       2240 non-null   object        \n",
      " 4   Income               2216 non-null   float64       \n",
      " 5   Kidhome              2240 non-null   int64         \n",
      " 6   Teenhome             2240 non-null   int64         \n",
      " 7   Dt_Customer          2240 non-null   datetime64[ns]\n",
      " 8   Recency              2240 non-null   int64         \n",
      " 9   MntWines             2240 non-null   int64         \n",
      " 10  MntFruits            2240 non-null   int64         \n",
      " 11  MntMeatProducts      2240 non-null   int64         \n",
      " 12  MntFishProducts      2240 non-null   int64         \n",
      " 13  MntSweetProducts     2240 non-null   int64         \n",
      " 14  MntGoldProds         2240 non-null   int64         \n",
      " 15  NumDealsPurchases    2240 non-null   int64         \n",
      " 16  NumWebPurchases      2240 non-null   int64         \n",
      " 17  NumCatalogPurchases  2240 non-null   int64         \n",
      " 18  NumStorePurchases    2240 non-null   int64         \n",
      " 19  NumWebVisitsMonth    2240 non-null   int64         \n",
      " 20  AcceptedCmp3         2240 non-null   int64         \n",
      " 21  AcceptedCmp4         2240 non-null   int64         \n",
      " 22  AcceptedCmp5         2240 non-null   int64         \n",
      " 23  AcceptedCmp1         2240 non-null   int64         \n",
      " 24  AcceptedCmp2         2240 non-null   int64         \n",
      " 25  Complain             2240 non-null   int64         \n",
      " 26  Z_CostContact        2240 non-null   int64         \n",
      " 27  Z_Revenue            2240 non-null   int64         \n",
      " 28  Response             2240 non-null   int64         \n",
      "dtypes: datetime64[ns](1), float64(1), int64(25), object(2)\n",
      "memory usage: 507.6+ KB\n",
      "None\n",
      "(2240, 29)\n",
      "(1493, 29)\n",
      "(1493, 26)\n",
      "['NumDealsPurchases', 'AcceptedCmp1', 'AcceptedCmp2', 'AcceptedCmp3', 'AcceptedCmp4', 'AcceptedCmp5', 'Response', 'Complain', 'Recency']\n",
      "['Year_Birth', 'Education', 'Marital_Status', 'Income', 'Kidhome', 'Teenhome', 'Dt_Customer', 'MntWines', 'MntFruits', 'MntMeatProducts', 'MntFishProducts', 'MntSweetProducts', 'MntGoldProds', 'NumWebPurchases', 'NumCatalogPurchases', 'NumStorePurchases', 'NumWebVisitsMonth']\n",
      "['MntWines', 'MntFruits', 'MntMeatProducts', 'MntFishProducts', 'MntSweetProducts', 'MntGoldProds', 'NumWebPurchases', 'NumCatalogPurchases', 'NumStorePurchases']\n",
      "['MntSweetProducts']\n",
      "(1493, 25)\n",
      "['Year_Birth', 'Education', 'Marital_Status', 'Income', 'Kidhome', 'Teenhome', 'Dt_Customer', 'MntWines', 'MntFruits', 'MntMeatProducts', 'MntFishProducts', 'MntGoldProds', 'NumWebPurchases', 'NumCatalogPurchases', 'NumStorePurchases', 'NumWebVisitsMonth']\n"
     ]
    }
   ],
   "source": [
    "np.random.seed(rs)\n",
    "\n",
    "df_tot = pd.read_csv(\"cla4lsp_customers.csv\", sep='\\t', parse_dates=['Dt_Customer'], date_format='%d-%m-%Y')\n",
    "print(df_tot.info())\n",
    "workdf = df_tot.sample(frac=2/3, random_state=rs)\n",
    "print(df_tot.shape)\n",
    "print(workdf.shape)\n",
    "workdf.drop(['ID', 'Z_CostContact', 'Z_Revenue'], axis=1, inplace=True)\n",
    "print(workdf.shape)\n",
    "labels = ['NumDealsPurchases', 'AcceptedCmp1', 'AcceptedCmp2', 'AcceptedCmp3', 'AcceptedCmp4', 'AcceptedCmp5',\n",
    "          'Response', 'Complain', 'Recency']\n",
    "features = list(workdf.drop(labels, axis=1).columns)\n",
    "print(labels)\n",
    "print(features)\n",
    "habits = features[7:16]\n",
    "print(habits)\n",
    "removed = np.random.choice(habits, 1)\n",
    "print(removed)\n",
    "workdf.drop(removed, axis=1, inplace=True)\n",
    "features.remove(removed)\n",
    "print(workdf.shape)\n",
    "print(features)\n"
   ]
  },
  {
   "cell_type": "markdown",
   "metadata": {},
   "source": [
    "Cleaning the working dataset from missing values"
   ]
  },
  {
   "cell_type": "code",
   "execution_count": 11,
   "metadata": {},
   "outputs": [
    {
     "name": "stdout",
     "output_type": "stream",
     "text": [
      "Year_Birth              0\n",
      "Education               0\n",
      "Marital_Status          0\n",
      "Income                 15\n",
      "Kidhome                 0\n",
      "Teenhome                0\n",
      "Dt_Customer             0\n",
      "MntWines                0\n",
      "MntFruits               0\n",
      "MntMeatProducts         0\n",
      "MntFishProducts         0\n",
      "MntGoldProds            0\n",
      "NumWebPurchases         0\n",
      "NumCatalogPurchases     0\n",
      "NumStorePurchases       0\n",
      "NumWebVisitsMonth       0\n",
      "dtype: int64\n"
     ]
    }
   ],
   "source": [
    "print(workdf[features].isna().sum())\n",
    "workdf['Income'].fillna(0, inplace=True)"
   ]
  },
  {
   "cell_type": "markdown",
   "metadata": {},
   "source": [
    "2. Exercise 2 (Encoding of Categorical Data) \\\n",
    "Here we have only two categorical features: Education and Marital_Status; since there are not too many possible values, we can use one-hot encoding by means of the pd.get_dummies() function."
   ]
  },
  {
   "cell_type": "code",
   "execution_count": 12,
   "metadata": {},
   "outputs": [
    {
     "name": "stdout",
     "output_type": "stream",
     "text": [
      "['Education_Basic', 'Education_Graduation', 'Education_Master', 'Education_PhD', 'Marital_Status_Alone', 'Marital_Status_Divorced', 'Marital_Status_Married', 'Marital_Status_Single', 'Marital_Status_Together', 'Marital_Status_Widow', 'Marital_Status_YOLO']\n"
     ]
    }
   ],
   "source": [
    "from sklearn.preprocessing import OneHotEncoder\n",
    "from sklearn.preprocessing import LabelEncoder\n",
    "\n",
    "\n",
    "# enc = OneHotEncoder()\n",
    "# transformed = enc.fit_transform(workdf[['Education', 'Marital_Status']])\n",
    "# print(transformed)\n",
    "# ohe_df = pd.DataFrame(transformed, columns=[['Education', 'Marital_Status']])\n",
    "# Xworkdf = pd.concat([workdf, ohe_df], axis=1).drop(['Education', 'Marital_Status'], axis=1)\n",
    "\n",
    "# print(workdf[features].iloc[:5])\n",
    "Xworkdf = pd.get_dummies(data=workdf[features], columns=['Education', 'Marital_Status'], drop_first=True)\n",
    "new_cols = list(Xworkdf.columns[~Xworkdf.columns.isin(workdf.columns)])\n",
    "print(new_cols)\n",
    "years = Xworkdf['Year_Birth']\n",
    "dates = Xworkdf['Dt_Customer']\n",
    "le = LabelEncoder()\n",
    "enc_years = le.fit_transform(years)\n",
    "enc_dates = le.fit_transform(dates)\n",
    "Xworkdf['Year_Birth'] = enc_years\n",
    "Xworkdf['Dt_Customer'] = enc_dates\n",
    "# print(Xworkdf.shape)\n",
    "# print(Xworkdf.iloc[:5])\n",
    "\n"
   ]
  },
  {
   "cell_type": "markdown",
   "metadata": {},
   "source": [
    " Exercise 3 (Preprocessing and full-PCA)"
   ]
  },
  {
   "cell_type": "code",
   "execution_count": 13,
   "metadata": {},
   "outputs": [
    {
     "name": "stdout",
     "output_type": "stream",
     "text": [
      "      Year_Birth    Income  Kidhome  Teenhome  Dt_Customer  MntWines  \\\n",
      "1797    0.660714  0.054410      0.5       0.0     0.894825  0.019424   \n",
      "767     0.839286  0.101145      0.0       0.0     0.051753  0.398526   \n",
      "152     0.571429  0.069516      0.0       0.5     0.193656  0.156062   \n",
      "1762    0.625000  0.089222      0.0       0.5     0.644407  0.119223   \n",
      "899     0.821429  0.032769      0.5       0.0     0.642738  0.004689   \n",
      "\n",
      "      MntFruits  MntMeatProducts  MntFishProducts  MntGoldProds  ...  \\\n",
      "1797   0.015075         0.016821         0.011628      0.028037  ...   \n",
      "767    0.487437         0.168213         0.492248      0.376947  ...   \n",
      "152    0.100503         0.032483         0.031008      0.283489  ...   \n",
      "1762   0.015075         0.048724         0.275194      0.180685  ...   \n",
      "899    0.085427         0.009861         0.023256      0.080997  ...   \n",
      "\n",
      "      Education_Graduation  Education_Master  Education_PhD  \\\n",
      "1797                   0.0               1.0            0.0   \n",
      "767                    1.0               0.0            0.0   \n",
      "152                    0.0               0.0            0.0   \n",
      "1762                   1.0               0.0            0.0   \n",
      "899                    1.0               0.0            0.0   \n",
      "\n",
      "      Marital_Status_Alone  Marital_Status_Divorced  Marital_Status_Married  \\\n",
      "1797                   0.0                      0.0                     0.0   \n",
      "767                    0.0                      0.0                     0.0   \n",
      "152                    0.0                      0.0                     0.0   \n",
      "1762                   0.0                      0.0                     0.0   \n",
      "899                    0.0                      1.0                     0.0   \n",
      "\n",
      "      Marital_Status_Single  Marital_Status_Together  Marital_Status_Widow  \\\n",
      "1797                    1.0                      0.0                   0.0   \n",
      "767                     0.0                      1.0                   0.0   \n",
      "152                     0.0                      1.0                   0.0   \n",
      "1762                    0.0                      1.0                   0.0   \n",
      "899                     0.0                      0.0                   0.0   \n",
      "\n",
      "      Marital_Status_YOLO  \n",
      "1797                  0.0  \n",
      "767                   0.0  \n",
      "152                   0.0  \n",
      "1762                  0.0  \n",
      "899                   0.0  \n",
      "\n",
      "[5 rows x 25 columns]\n"
     ]
    }
   ],
   "source": [
    "from sklearn.preprocessing import StandardScaler, MinMaxScaler\n",
    "std = StandardScaler()\n",
    "mm = MinMaxScaler()\n",
    "# print(features)\n",
    "# numerical_features = ['Income', 'Kidhome', 'Teenhome', 'MntWines', 'MntFruits','MntMeatProducts', 'MntFishProducts',\n",
    "#                        'MntGoldProds', 'NumWebPurchases', 'NumCatalogPurchases', 'NumStorePurchases', 'NumWebVisitsMonth']\n",
    "# categorical_features = ['Year_Birth', 'Dt_Customer']\n",
    "# categorical_features.extend(new_cols)\n",
    "# print(categorical_features)\n",
    "\n",
    "std_features = std.fit_transform(Xworkdf.values)\n",
    "Xworkdf_std = pd.DataFrame(std_features, index=Xworkdf.index, columns=Xworkdf.columns)\n",
    "# print(Xworkdf_std.iloc[:5])\n",
    "mm_features = mm.fit_transform(Xworkdf.values)\n",
    "Xworkdf_mm = pd.DataFrame(mm_features, index=Xworkdf.index, columns=Xworkdf.columns)\n",
    "print(Xworkdf_mm.iloc[:5]) \n",
    "\n",
    "\n"
   ]
  }
 ],
 "metadata": {
  "kernelspec": {
   "display_name": "Python 3",
   "language": "python",
   "name": "python3"
  },
  "language_info": {
   "codemirror_mode": {
    "name": "ipython",
    "version": 3
   },
   "file_extension": ".py",
   "mimetype": "text/x-python",
   "name": "python",
   "nbconvert_exporter": "python",
   "pygments_lexer": "ipython3",
   "version": "3.10.6"
  }
 },
 "nbformat": 4,
 "nbformat_minor": 2
}
